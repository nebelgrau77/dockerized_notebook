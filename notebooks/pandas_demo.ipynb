{
 "cells": [
  {
   "cell_type": "code",
   "execution_count": 1,
   "id": "247b439d",
   "metadata": {},
   "outputs": [],
   "source": [
    "import numpy as np"
   ]
  },
  {
   "cell_type": "code",
   "execution_count": 2,
   "id": "37070912",
   "metadata": {},
   "outputs": [],
   "source": [
    "import pandas as pd"
   ]
  },
  {
   "cell_type": "code",
   "execution_count": 21,
   "id": "5347f021",
   "metadata": {},
   "outputs": [],
   "source": [
    "# format floating point values in the pandas dataframe\n",
    "\n",
    "pd.options.display.float_format = '{:.2f}$'.format"
   ]
  },
  {
   "cell_type": "code",
   "execution_count": 4,
   "id": "2fe7e451",
   "metadata": {},
   "outputs": [],
   "source": [
    "# number of records\n",
    "n = 50"
   ]
  },
  {
   "cell_type": "code",
   "execution_count": 40,
   "id": "ca288860",
   "metadata": {},
   "outputs": [],
   "source": [
    "# some categorical data\n",
    "available_colors = ['red', 'green', 'blue']\n",
    "available_sizes = ['small', 'medium', 'large']"
   ]
  },
  {
   "cell_type": "code",
   "execution_count": 41,
   "id": "5f5749c8",
   "metadata": {},
   "outputs": [],
   "source": [
    "# create data for the dataframe\n",
    "rand_values = [float(np.random.randint(100)) for _ in range(n)]\n",
    "colors = [np.random.choice(available_colors) for _ in range(n)]\n",
    "sizes = [np.random.choice(available_sizes) for _ in range(n)]"
   ]
  },
  {
   "cell_type": "code",
   "execution_count": 42,
   "id": "034a6c10",
   "metadata": {},
   "outputs": [],
   "source": [
    "# convert colors and sizes to categorical data, and make them ordered by the list and not by alphabet\n",
    "colors = pd.Categorical(colors, categories = available_colors, ordered=True)\n",
    "sizes = pd.Categorical(sizes, categories = available_sizes, ordered=True)"
   ]
  },
  {
   "cell_type": "code",
   "execution_count": 43,
   "id": "c465d947",
   "metadata": {},
   "outputs": [],
   "source": [
    "# create the dataframe, mapping lists to column names\n",
    "\n",
    "data = pd.DataFrame({'size':sizes, 'color':colors, 'price':rand_values})"
   ]
  },
  {
   "cell_type": "code",
   "execution_count": 44,
   "id": "0b3aa433",
   "metadata": {},
   "outputs": [
    {
     "data": {
      "text/html": [
       "<div>\n",
       "<style scoped>\n",
       "    .dataframe tbody tr th:only-of-type {\n",
       "        vertical-align: middle;\n",
       "    }\n",
       "\n",
       "    .dataframe tbody tr th {\n",
       "        vertical-align: top;\n",
       "    }\n",
       "\n",
       "    .dataframe thead th {\n",
       "        text-align: right;\n",
       "    }\n",
       "</style>\n",
       "<table border=\"1\" class=\"dataframe\">\n",
       "  <thead>\n",
       "    <tr style=\"text-align: right;\">\n",
       "      <th></th>\n",
       "      <th>size</th>\n",
       "      <th>color</th>\n",
       "      <th>price</th>\n",
       "    </tr>\n",
       "  </thead>\n",
       "  <tbody>\n",
       "    <tr>\n",
       "      <th>0</th>\n",
       "      <td>small</td>\n",
       "      <td>red</td>\n",
       "      <td>12.00$</td>\n",
       "    </tr>\n",
       "    <tr>\n",
       "      <th>1</th>\n",
       "      <td>large</td>\n",
       "      <td>green</td>\n",
       "      <td>6.00$</td>\n",
       "    </tr>\n",
       "    <tr>\n",
       "      <th>2</th>\n",
       "      <td>large</td>\n",
       "      <td>blue</td>\n",
       "      <td>95.00$</td>\n",
       "    </tr>\n",
       "    <tr>\n",
       "      <th>3</th>\n",
       "      <td>medium</td>\n",
       "      <td>red</td>\n",
       "      <td>30.00$</td>\n",
       "    </tr>\n",
       "    <tr>\n",
       "      <th>4</th>\n",
       "      <td>small</td>\n",
       "      <td>green</td>\n",
       "      <td>4.00$</td>\n",
       "    </tr>\n",
       "  </tbody>\n",
       "</table>\n",
       "</div>"
      ],
      "text/plain": [
       "     size  color  price\n",
       "0   small    red 12.00$\n",
       "1   large  green  6.00$\n",
       "2   large   blue 95.00$\n",
       "3  medium    red 30.00$\n",
       "4   small  green  4.00$"
      ]
     },
     "execution_count": 44,
     "metadata": {},
     "output_type": "execute_result"
    }
   ],
   "source": [
    "# show the first five records\n",
    "\n",
    "data.head(5)"
   ]
  },
  {
   "cell_type": "code",
   "execution_count": 45,
   "id": "6cd14a2d",
   "metadata": {},
   "outputs": [
    {
     "data": {
      "text/plain": [
       "color  size  \n",
       "red    small    34.83$\n",
       "       medium   55.20$\n",
       "       large     8.50$\n",
       "green  small    19.75$\n",
       "       medium   23.71$\n",
       "       large    31.75$\n",
       "blue   small    49.57$\n",
       "       medium   46.67$\n",
       "       large    54.78$\n",
       "Name: price, dtype: float64"
      ]
     },
     "execution_count": 45,
     "metadata": {},
     "output_type": "execute_result"
    }
   ],
   "source": [
    "# get average price by color and size\n",
    "\n",
    "data.groupby(['color', 'size'])['price'].mean()"
   ]
  },
  {
   "cell_type": "code",
   "execution_count": null,
   "id": "a0dde514",
   "metadata": {},
   "outputs": [],
   "source": []
  }
 ],
 "metadata": {
  "kernelspec": {
   "display_name": "Python 3 (ipykernel)",
   "language": "python",
   "name": "python3"
  },
  "language_info": {
   "codemirror_mode": {
    "name": "ipython",
    "version": 3
   },
   "file_extension": ".py",
   "mimetype": "text/x-python",
   "name": "python",
   "nbconvert_exporter": "python",
   "pygments_lexer": "ipython3",
   "version": "3.10.5"
  }
 },
 "nbformat": 4,
 "nbformat_minor": 5
}
