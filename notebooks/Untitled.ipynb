{
 "cells": [
  {
   "cell_type": "code",
   "execution_count": 1,
   "id": "29c5b95b",
   "metadata": {},
   "outputs": [],
   "source": [
    "import numpy as np"
   ]
  },
  {
   "cell_type": "code",
   "execution_count": 2,
   "id": "c39c2cbd",
   "metadata": {},
   "outputs": [],
   "source": [
    "import pandas as pd"
   ]
  },
  {
   "cell_type": "code",
   "execution_count": 21,
   "id": "2b499d13",
   "metadata": {},
   "outputs": [],
   "source": [
    "# format floating point values in the pandas dataframe\n",
    "\n",
    "pd.options.display.float_format = '{:.2f}$'.format"
   ]
  },
  {
   "cell_type": "code",
   "execution_count": 4,
   "id": "a1440fef",
   "metadata": {},
   "outputs": [],
   "source": [
    "# number of records\n",
    "n = 50"
   ]
  },
  {
   "cell_type": "code",
   "execution_count": 34,
   "id": "0e3182b1",
   "metadata": {},
   "outputs": [],
   "source": [
    "# some categorical data\n",
    "available_colors = ['red', 'green', 'blue']\n",
    "available_sizes = ['small', 'medium', 'large']"
   ]
  },
  {
   "cell_type": "code",
   "execution_count": null,
   "id": "941a65d3",
   "metadata": {},
   "outputs": [],
   "source": [
    "# create data for the dataframe\n",
    "rand_values = [float(np.random.randint(100)) for _ in range(n)]\n",
    "colors = [np.random.choice(available_colors) for _ in range(n)]\n",
    "sizes = [np.random.choice(available_sizes) for _ in range(n)]"
   ]
  },
  {
   "cell_type": "code",
   "execution_count": null,
   "id": "3f474d87",
   "metadata": {},
   "outputs": [],
   "source": [
    "# convert colors and sizes to categorical data, and make them ordered by "
   ]
  },
  {
   "cell_type": "code",
   "execution_count": 30,
   "id": "45445d46",
   "metadata": {},
   "outputs": [],
   "source": [
    "colors = pd.Categorical(colors, categories = available_colors, ordered=True)"
   ]
  },
  {
   "cell_type": "code",
   "execution_count": 35,
   "id": "621d8178",
   "metadata": {},
   "outputs": [],
   "source": [
    "sizes = pd.Categorical(sizes, categories = available_sizes, ordered=True)"
   ]
  },
  {
   "cell_type": "code",
   "execution_count": 36,
   "id": "2cc38921",
   "metadata": {},
   "outputs": [],
   "source": [
    "# create the dataframe, mapping lists to column names\n",
    "\n",
    "data = pd.DataFrame({'size':sizes, 'color':colors, 'price':rand_values})"
   ]
  },
  {
   "cell_type": "code",
   "execution_count": 37,
   "id": "2131306c",
   "metadata": {},
   "outputs": [
    {
     "data": {
      "text/html": [
       "<div>\n",
       "<style scoped>\n",
       "    .dataframe tbody tr th:only-of-type {\n",
       "        vertical-align: middle;\n",
       "    }\n",
       "\n",
       "    .dataframe tbody tr th {\n",
       "        vertical-align: top;\n",
       "    }\n",
       "\n",
       "    .dataframe thead th {\n",
       "        text-align: right;\n",
       "    }\n",
       "</style>\n",
       "<table border=\"1\" class=\"dataframe\">\n",
       "  <thead>\n",
       "    <tr style=\"text-align: right;\">\n",
       "      <th></th>\n",
       "      <th>size</th>\n",
       "      <th>color</th>\n",
       "      <th>price</th>\n",
       "    </tr>\n",
       "  </thead>\n",
       "  <tbody>\n",
       "    <tr>\n",
       "      <th>0</th>\n",
       "      <td>large</td>\n",
       "      <td>red</td>\n",
       "      <td>12.00$</td>\n",
       "    </tr>\n",
       "    <tr>\n",
       "      <th>1</th>\n",
       "      <td>small</td>\n",
       "      <td>red</td>\n",
       "      <td>30.00$</td>\n",
       "    </tr>\n",
       "    <tr>\n",
       "      <th>2</th>\n",
       "      <td>large</td>\n",
       "      <td>blue</td>\n",
       "      <td>70.00$</td>\n",
       "    </tr>\n",
       "    <tr>\n",
       "      <th>3</th>\n",
       "      <td>large</td>\n",
       "      <td>green</td>\n",
       "      <td>32.00$</td>\n",
       "    </tr>\n",
       "    <tr>\n",
       "      <th>4</th>\n",
       "      <td>small</td>\n",
       "      <td>blue</td>\n",
       "      <td>33.00$</td>\n",
       "    </tr>\n",
       "  </tbody>\n",
       "</table>\n",
       "</div>"
      ],
      "text/plain": [
       "    size  color  price\n",
       "0  large    red 12.00$\n",
       "1  small    red 30.00$\n",
       "2  large   blue 70.00$\n",
       "3  large  green 32.00$\n",
       "4  small   blue 33.00$"
      ]
     },
     "execution_count": 37,
     "metadata": {},
     "output_type": "execute_result"
    }
   ],
   "source": [
    "# show the first five records\n",
    "\n",
    "data.head(5)"
   ]
  },
  {
   "cell_type": "code",
   "execution_count": 38,
   "id": "148ffef7",
   "metadata": {},
   "outputs": [
    {
     "data": {
      "text/plain": [
       "color  size  \n",
       "green  small    52.57$\n",
       "       medium   63.50$\n",
       "       large    50.33$\n",
       "red    small    36.60$\n",
       "       medium   31.33$\n",
       "       large    38.40$\n",
       "blue   small    33.00$\n",
       "       medium   48.00$\n",
       "       large    74.17$\n",
       "Name: price, dtype: float64"
      ]
     },
     "execution_count": 38,
     "metadata": {},
     "output_type": "execute_result"
    }
   ],
   "source": [
    "data.groupby(['color', 'size'])['price'].mean()"
   ]
  },
  {
   "cell_type": "code",
   "execution_count": null,
   "id": "7b1e71cb",
   "metadata": {},
   "outputs": [],
   "source": []
  }
 ],
 "metadata": {
  "kernelspec": {
   "display_name": "Python 3 (ipykernel)",
   "language": "python",
   "name": "python3"
  },
  "language_info": {
   "codemirror_mode": {
    "name": "ipython",
    "version": 3
   },
   "file_extension": ".py",
   "mimetype": "text/x-python",
   "name": "python",
   "nbconvert_exporter": "python",
   "pygments_lexer": "ipython3",
   "version": "3.10.5"
  }
 },
 "nbformat": 4,
 "nbformat_minor": 5
}
